{
 "cells": [
  {
   "cell_type": "code",
   "execution_count": 1,
   "metadata": {},
   "outputs": [],
   "source": [
    "from itertools import permutations\n",
    "import numpy as np\n",
    "from Crypto.Util.number import bytes_to_long, long_to_bytes"
   ]
  },
  {
   "cell_type": "code",
   "execution_count": 12,
   "metadata": {},
   "outputs": [],
   "source": [
    "def det(M):\n",
    "    def sign(sigma):\n",
    "        l = 0\n",
    "        for i in range(5):\n",
    "            for j in range(i + 1, 5):\n",
    "                if sigma[i] > sigma[j]:\n",
    "                    l += 1\n",
    "        return (-1)**l\n",
    "\n",
    "    res = 0\n",
    "    for sigma in permutations([0,1,2,3,4]):\n",
    "        curr = 1\n",
    "        for i in range(5):\n",
    "            curr *= M[sigma[i]][i]\n",
    "        res += sign(sigma) * curr\n",
    "    return res\n"
   ]
  },
  {
   "cell_type": "code",
   "execution_count": 13,
   "metadata": {},
   "outputs": [
    {
     "data": {
      "text/plain": [
       "0"
      ]
     },
     "execution_count": 13,
     "metadata": {},
     "output_type": "execute_result"
    }
   ],
   "source": [
    "det(M)"
   ]
  },
  {
   "cell_type": "code",
   "execution_count": 25,
   "metadata": {},
   "outputs": [],
   "source": [
    "# x = [1099511627776** 0, 1099511627776 ** 1, 10995116277763 ** 2, 1099511627776 ** 3, 1099511627776 ** 4]\n",
    "# x = [0, 0, 0, 0, 1]\n",
    "\n",
    "x = [1]\n",
    "for i in range(4):\n",
    "    x.append(x[-1] * 10000000000000)\n",
    "\n",
    "M = [\n",
    "    [0, 0, 0, 0, 0],\n",
    "    [0, 0, 0, 0, 0],\n",
    "    [0, 0, 0, 0, 0],\n",
    "    [0, 0, 0, 0, 0],\n",
    "    [0, 0, 0, 0, 0],\n",
    "]\n",
    "\n",
    "for i in range(5):\n",
    "    M[i][i] = x[i]"
   ]
  },
  {
   "cell_type": "code",
   "execution_count": 30,
   "metadata": {},
   "outputs": [
    {
     "data": {
      "text/plain": [
       "[1,\n",
       " 10000000000000,\n",
       " 100000000000000000000000000,\n",
       " 1000000000000000000000000000000000000000,\n",
       " 10000000000000000000000000000000000000000000000000000]"
      ]
     },
     "execution_count": 30,
     "metadata": {},
     "output_type": "execute_result"
    }
   ],
   "source": [
    "x"
   ]
  },
  {
   "cell_type": "code",
   "execution_count": null,
   "metadata": {},
   "outputs": [],
   "source": []
  },
  {
   "cell_type": "code",
   "execution_count": 28,
   "metadata": {},
   "outputs": [],
   "source": [
    "F = [\n",
    "    [12, 0, 0, 0, 0],\n",
    "    [0, 34, 0, 0, 0],\n",
    "    [0, 0, 56, 0, 0],\n",
    "    [0, 0, 0, 78, 0],\n",
    "    [0, 0, 0, 0, 90],\n",
    "]"
   ]
  },
  {
   "cell_type": "code",
   "execution_count": 29,
   "metadata": {},
   "outputs": [
    {
     "name": "stdout",
     "output_type": "stream",
     "text": [
      "[[12 0 0 0 0]\n",
      " [0 340000000000000 0 0 0]\n",
      " [0 0 5600000000000000000000000000 0 0]\n",
      " [0 0 0 78000000000000000000000000000000000000000 0]\n",
      " [0 0 0 0 900000000000000000000000000000000000000000000000000000]]\n",
      "900000000000078000000000005600000000000340000000000012\n"
     ]
    }
   ],
   "source": [
    "R = np.matmul(M, F)\n",
    "print(R)\n",
    "print(np.trace(R))"
   ]
  },
  {
   "cell_type": "code",
   "execution_count": 24,
   "metadata": {},
   "outputs": [
    {
     "data": {
      "text/plain": [
       "b'Z\\x00\\x00\\x00\\x00N\\x00\\x00\\x00\\x15\\xe0\\x00\\x00\\x00\\rB\\x00\\x00\\x00\\x02\\x04'"
      ]
     },
     "execution_count": 24,
     "metadata": {},
     "output_type": "execute_result"
    }
   ],
   "source": [
    "long_to_bytes(np.trace(R))"
   ]
  },
  {
   "cell_type": "code",
   "execution_count": 5,
   "metadata": {},
   "outputs": [
    {
     "data": {
      "text/plain": [
       "'ffff'"
      ]
     },
     "execution_count": 5,
     "metadata": {},
     "output_type": "execute_result"
    }
   ],
   "source": [
    "b'\\xff\\xff'"
   ]
  },
  {
   "cell_type": "code",
   "execution_count": 6,
   "metadata": {},
   "outputs": [
    {
     "data": {
      "text/plain": [
       "1099511627775"
      ]
     },
     "execution_count": 6,
     "metadata": {},
     "output_type": "execute_result"
    }
   ],
   "source": [
    "bytes_to_long(b'\\xff' * 5)"
   ]
  },
  {
   "cell_type": "code",
   "execution_count": 9,
   "metadata": {},
   "outputs": [
    {
     "data": {
      "text/plain": [
       "'0x100000000000000000000'"
      ]
     },
     "execution_count": 9,
     "metadata": {},
     "output_type": "execute_result"
    }
   ],
   "source": [
    "hex(1099511627776)"
   ]
  },
  {
   "cell_type": "code",
   "execution_count": 36,
   "metadata": {},
   "outputs": [],
   "source": [
    "res = 4658061070050163852545397042603108131104401578931720504280474484"
   ]
  },
  {
   "cell_type": "code",
   "execution_count": 37,
   "metadata": {},
   "outputs": [
    {
     "name": "stdout",
     "output_type": "stream",
     "text": [
      "504280474484\n",
      "440157893172\n",
      "426031081311\n",
      "163852545397\n",
      "465806107005\n"
     ]
    }
   ],
   "source": [
    "arr = []\n",
    "for i in range(5):\n",
    "    print(res % 10000000000000)\n",
    "    arr.append(res % 10000000000000)\n",
    "    res = res // 10000000000000"
   ]
  },
  {
   "cell_type": "code",
   "execution_count": 43,
   "metadata": {},
   "outputs": [],
   "source": [
    "s = b''\n",
    "for i in arr:\n",
    "    s = s + long_to_bytes(i)"
   ]
  },
  {
   "cell_type": "code",
   "execution_count": 44,
   "metadata": {},
   "outputs": [
    {
     "data": {
      "text/plain": [
       "b'uiuctf{tr4c1ng_&&_mult5!}'"
      ]
     },
     "execution_count": 44,
     "metadata": {},
     "output_type": "execute_result"
    }
   ],
   "source": [
    "s"
   ]
  }
 ],
 "metadata": {
  "kernelspec": {
   "display_name": "base",
   "language": "python",
   "name": "python3"
  },
  "language_info": {
   "codemirror_mode": {
    "name": "ipython",
    "version": 3
   },
   "file_extension": ".py",
   "mimetype": "text/x-python",
   "name": "python",
   "nbconvert_exporter": "python",
   "pygments_lexer": "ipython3",
   "version": "3.12.2"
  }
 },
 "nbformat": 4,
 "nbformat_minor": 2
}
