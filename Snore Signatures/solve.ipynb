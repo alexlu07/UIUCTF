{
 "cells": [
  {
   "cell_type": "code",
   "execution_count": 1,
   "metadata": {},
   "outputs": [
    {
     "name": "stderr",
     "output_type": "stream",
     "text": [
      "[*] Checking for new versions of pwntools\n",
      "    To disable this functionality, set the contents of /home/alexlu/.cache/.pwntools-cache-3.12/update to 'never' (old way).\n",
      "    Or add the following lines to ~/.pwn.conf or ~/.config/pwn.conf (or /etc/pwn.conf system-wide):\n",
      "        [update]\n",
      "        interval=never\n",
      "[*] You have the latest version of Pwntools (4.12.0)\n"
     ]
    }
   ],
   "source": [
    "from pwn import *"
   ]
  },
  {
   "cell_type": "code",
   "execution_count": 17,
   "metadata": {},
   "outputs": [
    {
     "name": "stdout",
     "output_type": "stream",
     "text": [
      "[x] Opening connection to snore-signatures.chal.uiuc.tf on port 1337\n",
      "[x] Opening connection to snore-signatures.chal.uiuc.tf on port 1337: Trying 35.192.162.89\n",
      "[+] Opening connection to snore-signatures.chal.uiuc.tf on port 1337: Done\n"
     ]
    }
   ],
   "source": [
    "conn = remote(\"snore-signatures.chal.uiuc.tf\", 1337, ssl=True)\n",
    "p = int(conn.recvline().decode().split()[2])\n",
    "q = int(conn.recvline().decode().split()[2])\n",
    "r = int(conn.recvline().decode().split()[2])"
   ]
  },
  {
   "cell_type": "code",
   "execution_count": 18,
   "metadata": {},
   "outputs": [
    {
     "name": "stdout",
     "output_type": "stream",
     "text": [
      "m = s = correct signature!\n",
      "\n",
      "m = s = correct signature!\n",
      "\n",
      "m = s = correct signature!\n",
      "\n",
      "m = s = correct signature!\n",
      "\n",
      "m = s = correct signature!\n",
      "\n",
      "m = s = correct signature!\n",
      "\n",
      "m = s = correct signature!\n",
      "\n",
      "m = s = correct signature!\n",
      "\n",
      "m = s = correct signature!\n",
      "\n",
      "m = s = correct signature!\n",
      "\n"
     ]
    }
   ],
   "source": [
    "for i in range(10):\n",
    "    y = int(conn.recvline().decode().split()[2])\n",
    "    conn.recvline()\n",
    "\n",
    "    m = i\n",
    "    conn.sendline(bytes(str(m), 'utf-8'))\n",
    "\n",
    "    s = int(conn.recvline().decode().split()[4])\n",
    "    e = int(conn.recvline().decode().split()[2])\n",
    "\n",
    "    conn.recvline()\n",
    "\n",
    "    conn.sendline(bytes(str(m + p), 'utf-8'))\n",
    "    conn.sendline(bytes(str(s), 'utf-8'))\n",
    "    print(conn.recvline().decode())"
   ]
  },
  {
   "cell_type": "code",
   "execution_count": 20,
   "metadata": {},
   "outputs": [
    {
     "name": "stdout",
     "output_type": "stream",
     "text": [
      "b'uiuctf{add1ti0n_i5_n0t_c0nc4t3n4ti0n}\\n'\n",
      "b'\\n'\n"
     ]
    }
   ],
   "source": [
    "print(conn.recvline())\n",
    "print(conn.recvline())"
   ]
  },
  {
   "cell_type": "code",
   "execution_count": 14,
   "metadata": {},
   "outputs": [
    {
     "data": {
      "text/plain": [
       "b'10'"
      ]
     },
     "execution_count": 14,
     "metadata": {},
     "output_type": "execute_result"
    }
   ],
   "source": [
    "bytes(str(10), 'utf-8')"
   ]
  },
  {
   "cell_type": "code",
   "execution_count": null,
   "metadata": {},
   "outputs": [],
   "source": [
    "\"\"\"\n",
    "\n",
    "p = p\n",
    "q = q\n",
    "h = ?\n",
    "g = g\n",
    "\n",
    "\n",
    "\n",
    "\n",
    "\n",
    "\"\"\""
   ]
  }
 ],
 "metadata": {
  "kernelspec": {
   "display_name": "experimental",
   "language": "python",
   "name": "python3"
  },
  "language_info": {
   "codemirror_mode": {
    "name": "ipython",
    "version": 3
   },
   "file_extension": ".py",
   "mimetype": "text/x-python",
   "name": "python",
   "nbconvert_exporter": "python",
   "pygments_lexer": "ipython3",
   "version": "3.12.2"
  }
 },
 "nbformat": 4,
 "nbformat_minor": 2
}
